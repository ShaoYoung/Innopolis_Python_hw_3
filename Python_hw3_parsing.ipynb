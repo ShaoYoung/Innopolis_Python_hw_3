{
  "nbformat": 4,
  "nbformat_minor": 0,
  "metadata": {
    "colab": {
      "provenance": []
    },
    "kernelspec": {
      "name": "python3",
      "display_name": "Python 3"
    },
    "language_info": {
      "name": "python"
    }
  },
  "cells": [
    {
      "cell_type": "code",
      "execution_count": 1,
      "metadata": {
        "colab": {
          "base_uri": "https://localhost:8080/"
        },
        "id": "xUkhrBWEOHbt",
        "outputId": "daf37cf8-8e54-4560-ffff-9e04ba22fece"
      },
      "outputs": [
        {
          "output_type": "stream",
          "name": "stdout",
          "text": [
            "Requirement already satisfied: BeautifulSoup4 in /usr/local/lib/python3.10/dist-packages (4.12.3)\n",
            "Requirement already satisfied: soupsieve>1.2 in /usr/local/lib/python3.10/dist-packages (from BeautifulSoup4) (2.6)\n"
          ]
        }
      ],
      "source": [
        "!pip install BeautifulSoup4"
      ]
    },
    {
      "cell_type": "code",
      "source": [
        "import requests\n",
        "from bs4 import BeautifulSoup\n",
        "import pandas as pd\n",
        "import string\n",
        "import re\n",
        "# url = 'https://yandex.com.am/weather/ru-RU/details?lat=56.48464&lon=84.947649&lang=ru&via=ms'\n",
        "# url = 'https://yandex.com.am/weather/?lat=56.48464&lon=84.947649'\n",
        "# url = 'https://yandex.com.am/weather/?lat=55.75581741&lon=37.61764526'\n",
        "# url = 'https://meteoinfo.ru/forecasts/russia/tomsk-area/tomsk'\n",
        "area = input('Введите область: ')\n",
        "city = input('Введите город: ')\n",
        "url = f'https://meteoinfo.ru/forecasts/russia/{area}-area/{city}'\n",
        "print(url)"
      ],
      "metadata": {
        "id": "7vRXlOTWOq6t",
        "colab": {
          "base_uri": "https://localhost:8080/"
        },
        "outputId": "246145d0-76a6-42e2-fadb-5d9b74ae7fda"
      },
      "execution_count": 2,
      "outputs": [
        {
          "output_type": "stream",
          "name": "stdout",
          "text": [
            "Введите область: Tomsk\n",
            "Введите город: Tomsk\n",
            "https://meteoinfo.ru/forecasts/russia/Tomsk-area/Tomsk\n"
          ]
        }
      ]
    },
    {
      "cell_type": "code",
      "source": [
        "response = requests.get(url)\n",
        "if response.status_code == 200:\n",
        "  print(f'Данные получены, ответ {response.status_code}. Начинаю парсить!')\n",
        "  soup = BeautifulSoup(response.text, 'html.parser')\n",
        "  # soup = BeautifulSoup(response.text, 'lxml')\n",
        "else:\n",
        "  print(f'Что-то пошло не так, ответ {response.status_code}.')"
      ],
      "metadata": {
        "colab": {
          "base_uri": "https://localhost:8080/"
        },
        "id": "5T_ZaUjXQXUQ",
        "outputId": "9a789b3c-63f4-4ff4-9720-f1fcdce1c633"
      },
      "execution_count": 3,
      "outputs": [
        {
          "output_type": "stream",
          "name": "stdout",
          "text": [
            "Данные получены, ответ 200. Начинаю парсить!\n"
          ]
        }
      ]
    },
    {
      "cell_type": "code",
      "source": [
        "table = soup.find('table', {'class': 'fc_tab_1'})\n",
        "rows = table.findAll('tr')"
      ],
      "metadata": {
        "id": "tDQQSAWd2OZr"
      },
      "execution_count": 4,
      "outputs": []
    },
    {
      "cell_type": "code",
      "source": [
        "# Даты\n",
        "dates = []\n",
        "# Дни недели\n",
        "weekdays = []\n",
        "# Дни и ночи\n",
        "t_days = rows[0].findAll('td')\n",
        "for day in t_days:\n",
        "  if day.text:\n",
        "    index = (day.text.index([num for num in day.text if num in string.digits][0]))\n",
        "    if dates:\n",
        "      weekdays.append(day.text[:index])\n",
        "      weekdays.append(day.text[:index])\n",
        "      dates.append(day.text[index:])\n",
        "      dates.append(day.text[index:])\n",
        "    else:\n",
        "      weekdays.append(day.text[:index])\n",
        "      dates.append(day.text[index:])\n",
        "print(dates)\n",
        "print(weekdays)"
      ],
      "metadata": {
        "colab": {
          "base_uri": "https://localhost:8080/"
        },
        "id": "uRdu7zQ4A3R4",
        "outputId": "bb4976f0-f735-4f44-9988-907febb95621"
      },
      "execution_count": 5,
      "outputs": [
        {
          "output_type": "stream",
          "name": "stdout",
          "text": [
            "['25 августа', '26 августа', '26 августа', '27 августа', '27 августа', '28 августа', '28 августа', '29 августа', '29 августа', '30 августа', '30 августа', '31 августа', '31 августа']\n",
            "['Воскресенье', 'Понедельник', 'Понедельник', 'Вторник', 'Вторник', 'Среда', 'Среда', 'Четверг', 'Четверг', 'Пятница', 'Пятница', 'Суббота', 'Суббота']\n"
          ]
        }
      ]
    },
    {
      "cell_type": "code",
      "source": [
        "# Облачность, осадки (день)\n",
        "clouds = []\n",
        "t_clouds = rows[1].findAll('td')\n",
        "# Дни\n",
        "days_nights = [t_clouds[0].text] * 7\n",
        "for cloud in t_clouds:\n",
        "  match = re.findall(r'(title=\".+\")', str(cloud))\n",
        "  if match:\n",
        "    clouds.append(match[0].replace('title=', '').replace('\"', ''))\n",
        "print(clouds)\n",
        "print(days_nights)"
      ],
      "metadata": {
        "colab": {
          "base_uri": "https://localhost:8080/"
        },
        "id": "02IwDYojIqkE",
        "outputId": "778117cb-0a76-4bbf-b930-042f746bab01"
      },
      "execution_count": 6,
      "outputs": [
        {
          "output_type": "stream",
          "name": "stdout",
          "text": [
            "['Облачно, дождь', 'Облачно, дождь', 'Облачно, небольшой дождь', 'Облачно, дождь', 'Переменная облачность, небольшой кратковременный дождь', 'Облачно, дождь', 'Облачно, дождь']\n",
            "['День', 'День', 'День', 'День', 'День', 'День', 'День']\n"
          ]
        }
      ]
    },
    {
      "cell_type": "code",
      "source": [
        "# Температура (день)\n",
        "temps = []\n",
        "t_temp = rows[2].findAll('td')\n",
        "for temp_max in t_temp:\n",
        "  if 'T максимальная' not in temp_max.text and temp_max.text != '':\n",
        "    temps.append(temp_max.text.replace('°', ''))\n",
        "print(temps)"
      ],
      "metadata": {
        "colab": {
          "base_uri": "https://localhost:8080/"
        },
        "id": "C778WI4WRcBq",
        "outputId": "f3e2a008-52dc-4090-83a6-dd1db800273e"
      },
      "execution_count": 7,
      "outputs": [
        {
          "output_type": "stream",
          "name": "stdout",
          "text": [
            "['23', '19', '19', '19', '22', '19', '17']\n"
          ]
        }
      ]
    },
    {
      "cell_type": "code",
      "source": [
        "# Вероятность осадков (день)\n",
        "precs = []\n",
        "t_precs = rows[4].findAll('td')\n",
        "for prec in t_precs:\n",
        "  if 'Осадки, вероятность' not in prec.text and prec.text != '':\n",
        "    precs.append(prec.text.replace('%', ''))\n",
        "print(precs)"
      ],
      "metadata": {
        "colab": {
          "base_uri": "https://localhost:8080/"
        },
        "id": "4MJFy-1NReS1",
        "outputId": "becd3fbb-3b46-4039-ee54-1ea77a51e3f8"
      },
      "execution_count": 8,
      "outputs": [
        {
          "output_type": "stream",
          "name": "stdout",
          "text": [
            "['85', '95', '84', '87', '83', '79', '75']\n"
          ]
        }
      ]
    },
    {
      "cell_type": "code",
      "source": [
        "# Направление ветра (день)\n",
        "wind_directions = []\n",
        "# Скорость ветра (день)\n",
        "wind_speeds = []\n",
        "t_winds = rows[5].findAll('td')\n",
        "for wind in t_winds:\n",
        "  match = re.findall(r'(title=\".{1,3}\")', str(wind))\n",
        "  if match:\n",
        "    wind_directions.append(match[0].replace('title=', '').replace('\"', ''))\n",
        "    wind_speeds.append(wind.text.replace(' ', ''))\n",
        "print(wind_directions)\n",
        "print(wind_speeds)"
      ],
      "metadata": {
        "colab": {
          "base_uri": "https://localhost:8080/"
        },
        "id": "mKtSM72DUXYT",
        "outputId": "2945e422-89d3-42f1-9fd4-1961400f75b2"
      },
      "execution_count": 9,
      "outputs": [
        {
          "output_type": "stream",
          "name": "stdout",
          "text": [
            "['Ю', 'Ю-З', 'Ю-З', 'З', 'Ю-З', 'Ю-З', 'С-З']\n",
            "['3', '4', '3', '2', '3', '4', '2']\n"
          ]
        }
      ]
    },
    {
      "cell_type": "code",
      "source": [
        "# Атмосферное давление (день)\n",
        "presss = []\n",
        "t_press = rows[6].findAll('td')\n",
        "for press in t_press:\n",
        "  if 'Давление, мм рт.ст' not in press.text and press.text != '':\n",
        "    presss.append(press.text)\n",
        "print(presss)"
      ],
      "metadata": {
        "colab": {
          "base_uri": "https://localhost:8080/"
        },
        "id": "KElL5CuiUXj0",
        "outputId": "c15c2b65-2535-4b7f-edff-d9b0694031ca"
      },
      "execution_count": 10,
      "outputs": [
        {
          "output_type": "stream",
          "name": "stdout",
          "text": [
            "['740', '742', '746', '748', '746', '744', '746']\n"
          ]
        }
      ]
    },
    {
      "cell_type": "code",
      "source": [
        "t_clouds = rows[7].findAll('td')\n",
        "# Ночи\n",
        "for index in range(1, 13, 2):\n",
        "  days_nights.insert(index, t_clouds[0].text)\n",
        "print(days_nights)\n",
        "\n",
        "# Облачность, осадки (ночь)\n",
        "index = 1\n",
        "for cloud in t_clouds:\n",
        "  match = re.findall(r'(title=\".+\")', str(cloud))\n",
        "  if match:\n",
        "    clouds.insert(index, match[0].replace('title=', '').replace('\"', ''))\n",
        "    index += 2\n",
        "print(clouds)"
      ],
      "metadata": {
        "id": "fK3WehfkUXsf",
        "colab": {
          "base_uri": "https://localhost:8080/"
        },
        "outputId": "b4f40969-d4b7-48da-9ae5-50cc6bb9cb6c"
      },
      "execution_count": 11,
      "outputs": [
        {
          "output_type": "stream",
          "name": "stdout",
          "text": [
            "['День', 'Ночь', 'День', 'Ночь', 'День', 'Ночь', 'День', 'Ночь', 'День', 'Ночь', 'День', 'Ночь', 'День']\n",
            "['Облачно, дождь', 'Облачно, дождь', 'Облачно, дождь', 'Облачно, дождь', 'Облачно, небольшой дождь', 'Облачно, небольшой дождь', 'Облачно, дождь', 'Переменная облачность, небольшой кратковременный дождь', 'Переменная облачность, небольшой кратковременный дождь', 'Облачно, временами небольшой дождь', 'Облачно, дождь', 'Облачно, кратковременный дождь', 'Облачно, дождь']\n"
          ]
        }
      ]
    },
    {
      "cell_type": "code",
      "source": [
        "# Температура (ночь)\n",
        "t_temp = rows[8].findAll('td')\n",
        "index = 1\n",
        "for temp_max in t_temp:\n",
        "  if 'T минимальная' not in temp_max.text and temp_max.text != '':\n",
        "    temps.insert(index, temp_max.text.replace('°', ''))\n",
        "    index += 2\n",
        "print(temps)"
      ],
      "metadata": {
        "id": "6vYmIT6wUXzL",
        "colab": {
          "base_uri": "https://localhost:8080/"
        },
        "outputId": "943b8342-278b-46f5-f6f2-e79d14e9e35a"
      },
      "execution_count": 12,
      "outputs": [
        {
          "output_type": "stream",
          "name": "stdout",
          "text": [
            "['23', '13', '19', '13', '19', '13', '19', '11', '22', '14', '19', '11', '17']\n"
          ]
        }
      ]
    },
    {
      "cell_type": "code",
      "source": [
        "# Вероятность осадков (ночь)\n",
        "t_precs = rows[10].findAll('td')\n",
        "index = 1\n",
        "for prec in t_precs:\n",
        "  if 'Осадки, вероятность' not in prec.text and prec.text != '':\n",
        "    precs.insert(index, prec.text.replace('%', ''))\n",
        "    index += 2\n",
        "print(precs)"
      ],
      "metadata": {
        "colab": {
          "base_uri": "https://localhost:8080/"
        },
        "id": "uqvBLbmZbwnP",
        "outputId": "1f37d23e-4623-4050-a5a2-a152052ddc4f"
      },
      "execution_count": 13,
      "outputs": [
        {
          "output_type": "stream",
          "name": "stdout",
          "text": [
            "['85', '95', '95', '91', '84', '73', '87', '83', '83', '79', '79', '75', '75']\n"
          ]
        }
      ]
    },
    {
      "cell_type": "code",
      "source": [
        "# Направление ветра (ночь)\n",
        "# Скорость ветра (ночь)\n",
        "t_winds = rows[11].findAll('td')\n",
        "index = 1\n",
        "for wind in t_winds:\n",
        "  match = re.findall(r'(title=\".{1,3}\")', str(wind))\n",
        "  if match:\n",
        "    wind_directions.insert(index, match[0].replace('title=', '').replace('\"', ''))\n",
        "    wind_speeds.insert(index, wind.text.replace(' ', ''))\n",
        "    index += 2\n",
        "print(wind_directions)\n",
        "print(wind_speeds)"
      ],
      "metadata": {
        "colab": {
          "base_uri": "https://localhost:8080/"
        },
        "id": "-8nto3aTtjXC",
        "outputId": "8b488471-bc40-4eae-e1d1-f613975d5876"
      },
      "execution_count": 14,
      "outputs": [
        {
          "output_type": "stream",
          "name": "stdout",
          "text": [
            "['Ю', 'Ю-З', 'Ю-З', 'Ю-З', 'Ю-З', 'Ю-З', 'З', 'Ю-З', 'Ю-З', 'Ю', 'Ю-З', 'З', 'С-З']\n",
            "['3', '4', '4', '3', '3', '2', '2', '2', '3', '4', '4', '1', '2']\n"
          ]
        }
      ]
    },
    {
      "cell_type": "code",
      "source": [
        "# Атмосферное давление (ночь)\n",
        "t_press = rows[12].findAll('td')\n",
        "index = 1\n",
        "for press in t_press:\n",
        "  if 'Давление, мм рт.ст' not in press.text and press.text != '':\n",
        "    presss.insert(index, press.text)\n",
        "    index += 2\n",
        "print(presss)"
      ],
      "metadata": {
        "colab": {
          "base_uri": "https://localhost:8080/"
        },
        "id": "Pecemg8Stjks",
        "outputId": "55afc3e1-b543-4d6e-e815-bf1241cc180e"
      },
      "execution_count": 15,
      "outputs": [
        {
          "output_type": "stream",
          "name": "stdout",
          "text": [
            "['740', '739', '742', '744', '746', '747', '748', '748', '746', '745', '744', '745', '746']\n"
          ]
        }
      ]
    },
    {
      "cell_type": "code",
      "source": [
        "weather = {'Area': [area] * len(dates), 'City': [city] * len(dates), 'Date': dates, 'Weekday': weekdays, 'Day/Night': days_nights, 'Cloudiness': clouds, 'Temperature': temps, 'PrecipitationProbability': precs, 'WindDirection': wind_directions, 'WindSpeed': wind_speeds, 'AtmosphericPressure': presss}\n",
        "df = pd.DataFrame(weather)"
      ],
      "metadata": {
        "id": "EQH5MS3Ebw6i"
      },
      "execution_count": 16,
      "outputs": []
    },
    {
      "cell_type": "code",
      "source": [
        "df"
      ],
      "metadata": {
        "colab": {
          "base_uri": "https://localhost:8080/",
          "height": 457
        },
        "id": "vAB0OYhubxBO",
        "outputId": "2f0ee454-afd0-4de4-d84d-431da3ef7c18"
      },
      "execution_count": 17,
      "outputs": [
        {
          "output_type": "execute_result",
          "data": {
            "text/plain": [
              "     Area   City        Date      Weekday Day/Night  \\\n",
              "0   Tomsk  Tomsk  25 августа  Воскресенье      День   \n",
              "1   Tomsk  Tomsk  26 августа  Понедельник      Ночь   \n",
              "2   Tomsk  Tomsk  26 августа  Понедельник      День   \n",
              "3   Tomsk  Tomsk  27 августа      Вторник      Ночь   \n",
              "4   Tomsk  Tomsk  27 августа      Вторник      День   \n",
              "5   Tomsk  Tomsk  28 августа        Среда      Ночь   \n",
              "6   Tomsk  Tomsk  28 августа        Среда      День   \n",
              "7   Tomsk  Tomsk  29 августа      Четверг      Ночь   \n",
              "8   Tomsk  Tomsk  29 августа      Четверг      День   \n",
              "9   Tomsk  Tomsk  30 августа      Пятница      Ночь   \n",
              "10  Tomsk  Tomsk  30 августа      Пятница      День   \n",
              "11  Tomsk  Tomsk  31 августа      Суббота      Ночь   \n",
              "12  Tomsk  Tomsk  31 августа      Суббота      День   \n",
              "\n",
              "                                           Cloudiness Temperature  \\\n",
              "0                                      Облачно, дождь          23   \n",
              "1                                      Облачно, дождь          13   \n",
              "2                                      Облачно, дождь          19   \n",
              "3                                      Облачно, дождь          13   \n",
              "4                            Облачно, небольшой дождь          19   \n",
              "5                            Облачно, небольшой дождь          13   \n",
              "6                                      Облачно, дождь          19   \n",
              "7   Переменная облачность, небольшой кратковременн...          11   \n",
              "8   Переменная облачность, небольшой кратковременн...          22   \n",
              "9                  Облачно, временами небольшой дождь          14   \n",
              "10                                     Облачно, дождь          19   \n",
              "11                     Облачно, кратковременный дождь          11   \n",
              "12                                     Облачно, дождь          17   \n",
              "\n",
              "   PrecipitationProbability WindDirection WindSpeed AtmosphericPressure  \n",
              "0                        85             Ю         3                 740  \n",
              "1                        95           Ю-З         4                 739  \n",
              "2                        95           Ю-З         4                 742  \n",
              "3                        91           Ю-З         3                 744  \n",
              "4                        84           Ю-З         3                 746  \n",
              "5                        73           Ю-З         2                 747  \n",
              "6                        87             З         2                 748  \n",
              "7                        83           Ю-З         2                 748  \n",
              "8                        83           Ю-З         3                 746  \n",
              "9                        79             Ю         4                 745  \n",
              "10                       79           Ю-З         4                 744  \n",
              "11                       75             З         1                 745  \n",
              "12                       75           С-З         2                 746  "
            ],
            "text/html": [
              "\n",
              "  <div id=\"df-7b379b92-bec7-4e6c-aebd-75c6de8db70a\" class=\"colab-df-container\">\n",
              "    <div>\n",
              "<style scoped>\n",
              "    .dataframe tbody tr th:only-of-type {\n",
              "        vertical-align: middle;\n",
              "    }\n",
              "\n",
              "    .dataframe tbody tr th {\n",
              "        vertical-align: top;\n",
              "    }\n",
              "\n",
              "    .dataframe thead th {\n",
              "        text-align: right;\n",
              "    }\n",
              "</style>\n",
              "<table border=\"1\" class=\"dataframe\">\n",
              "  <thead>\n",
              "    <tr style=\"text-align: right;\">\n",
              "      <th></th>\n",
              "      <th>Area</th>\n",
              "      <th>City</th>\n",
              "      <th>Date</th>\n",
              "      <th>Weekday</th>\n",
              "      <th>Day/Night</th>\n",
              "      <th>Cloudiness</th>\n",
              "      <th>Temperature</th>\n",
              "      <th>PrecipitationProbability</th>\n",
              "      <th>WindDirection</th>\n",
              "      <th>WindSpeed</th>\n",
              "      <th>AtmosphericPressure</th>\n",
              "    </tr>\n",
              "  </thead>\n",
              "  <tbody>\n",
              "    <tr>\n",
              "      <th>0</th>\n",
              "      <td>Tomsk</td>\n",
              "      <td>Tomsk</td>\n",
              "      <td>25 августа</td>\n",
              "      <td>Воскресенье</td>\n",
              "      <td>День</td>\n",
              "      <td>Облачно, дождь</td>\n",
              "      <td>23</td>\n",
              "      <td>85</td>\n",
              "      <td>Ю</td>\n",
              "      <td>3</td>\n",
              "      <td>740</td>\n",
              "    </tr>\n",
              "    <tr>\n",
              "      <th>1</th>\n",
              "      <td>Tomsk</td>\n",
              "      <td>Tomsk</td>\n",
              "      <td>26 августа</td>\n",
              "      <td>Понедельник</td>\n",
              "      <td>Ночь</td>\n",
              "      <td>Облачно, дождь</td>\n",
              "      <td>13</td>\n",
              "      <td>95</td>\n",
              "      <td>Ю-З</td>\n",
              "      <td>4</td>\n",
              "      <td>739</td>\n",
              "    </tr>\n",
              "    <tr>\n",
              "      <th>2</th>\n",
              "      <td>Tomsk</td>\n",
              "      <td>Tomsk</td>\n",
              "      <td>26 августа</td>\n",
              "      <td>Понедельник</td>\n",
              "      <td>День</td>\n",
              "      <td>Облачно, дождь</td>\n",
              "      <td>19</td>\n",
              "      <td>95</td>\n",
              "      <td>Ю-З</td>\n",
              "      <td>4</td>\n",
              "      <td>742</td>\n",
              "    </tr>\n",
              "    <tr>\n",
              "      <th>3</th>\n",
              "      <td>Tomsk</td>\n",
              "      <td>Tomsk</td>\n",
              "      <td>27 августа</td>\n",
              "      <td>Вторник</td>\n",
              "      <td>Ночь</td>\n",
              "      <td>Облачно, дождь</td>\n",
              "      <td>13</td>\n",
              "      <td>91</td>\n",
              "      <td>Ю-З</td>\n",
              "      <td>3</td>\n",
              "      <td>744</td>\n",
              "    </tr>\n",
              "    <tr>\n",
              "      <th>4</th>\n",
              "      <td>Tomsk</td>\n",
              "      <td>Tomsk</td>\n",
              "      <td>27 августа</td>\n",
              "      <td>Вторник</td>\n",
              "      <td>День</td>\n",
              "      <td>Облачно, небольшой дождь</td>\n",
              "      <td>19</td>\n",
              "      <td>84</td>\n",
              "      <td>Ю-З</td>\n",
              "      <td>3</td>\n",
              "      <td>746</td>\n",
              "    </tr>\n",
              "    <tr>\n",
              "      <th>5</th>\n",
              "      <td>Tomsk</td>\n",
              "      <td>Tomsk</td>\n",
              "      <td>28 августа</td>\n",
              "      <td>Среда</td>\n",
              "      <td>Ночь</td>\n",
              "      <td>Облачно, небольшой дождь</td>\n",
              "      <td>13</td>\n",
              "      <td>73</td>\n",
              "      <td>Ю-З</td>\n",
              "      <td>2</td>\n",
              "      <td>747</td>\n",
              "    </tr>\n",
              "    <tr>\n",
              "      <th>6</th>\n",
              "      <td>Tomsk</td>\n",
              "      <td>Tomsk</td>\n",
              "      <td>28 августа</td>\n",
              "      <td>Среда</td>\n",
              "      <td>День</td>\n",
              "      <td>Облачно, дождь</td>\n",
              "      <td>19</td>\n",
              "      <td>87</td>\n",
              "      <td>З</td>\n",
              "      <td>2</td>\n",
              "      <td>748</td>\n",
              "    </tr>\n",
              "    <tr>\n",
              "      <th>7</th>\n",
              "      <td>Tomsk</td>\n",
              "      <td>Tomsk</td>\n",
              "      <td>29 августа</td>\n",
              "      <td>Четверг</td>\n",
              "      <td>Ночь</td>\n",
              "      <td>Переменная облачность, небольшой кратковременн...</td>\n",
              "      <td>11</td>\n",
              "      <td>83</td>\n",
              "      <td>Ю-З</td>\n",
              "      <td>2</td>\n",
              "      <td>748</td>\n",
              "    </tr>\n",
              "    <tr>\n",
              "      <th>8</th>\n",
              "      <td>Tomsk</td>\n",
              "      <td>Tomsk</td>\n",
              "      <td>29 августа</td>\n",
              "      <td>Четверг</td>\n",
              "      <td>День</td>\n",
              "      <td>Переменная облачность, небольшой кратковременн...</td>\n",
              "      <td>22</td>\n",
              "      <td>83</td>\n",
              "      <td>Ю-З</td>\n",
              "      <td>3</td>\n",
              "      <td>746</td>\n",
              "    </tr>\n",
              "    <tr>\n",
              "      <th>9</th>\n",
              "      <td>Tomsk</td>\n",
              "      <td>Tomsk</td>\n",
              "      <td>30 августа</td>\n",
              "      <td>Пятница</td>\n",
              "      <td>Ночь</td>\n",
              "      <td>Облачно, временами небольшой дождь</td>\n",
              "      <td>14</td>\n",
              "      <td>79</td>\n",
              "      <td>Ю</td>\n",
              "      <td>4</td>\n",
              "      <td>745</td>\n",
              "    </tr>\n",
              "    <tr>\n",
              "      <th>10</th>\n",
              "      <td>Tomsk</td>\n",
              "      <td>Tomsk</td>\n",
              "      <td>30 августа</td>\n",
              "      <td>Пятница</td>\n",
              "      <td>День</td>\n",
              "      <td>Облачно, дождь</td>\n",
              "      <td>19</td>\n",
              "      <td>79</td>\n",
              "      <td>Ю-З</td>\n",
              "      <td>4</td>\n",
              "      <td>744</td>\n",
              "    </tr>\n",
              "    <tr>\n",
              "      <th>11</th>\n",
              "      <td>Tomsk</td>\n",
              "      <td>Tomsk</td>\n",
              "      <td>31 августа</td>\n",
              "      <td>Суббота</td>\n",
              "      <td>Ночь</td>\n",
              "      <td>Облачно, кратковременный дождь</td>\n",
              "      <td>11</td>\n",
              "      <td>75</td>\n",
              "      <td>З</td>\n",
              "      <td>1</td>\n",
              "      <td>745</td>\n",
              "    </tr>\n",
              "    <tr>\n",
              "      <th>12</th>\n",
              "      <td>Tomsk</td>\n",
              "      <td>Tomsk</td>\n",
              "      <td>31 августа</td>\n",
              "      <td>Суббота</td>\n",
              "      <td>День</td>\n",
              "      <td>Облачно, дождь</td>\n",
              "      <td>17</td>\n",
              "      <td>75</td>\n",
              "      <td>С-З</td>\n",
              "      <td>2</td>\n",
              "      <td>746</td>\n",
              "    </tr>\n",
              "  </tbody>\n",
              "</table>\n",
              "</div>\n",
              "    <div class=\"colab-df-buttons\">\n",
              "\n",
              "  <div class=\"colab-df-container\">\n",
              "    <button class=\"colab-df-convert\" onclick=\"convertToInteractive('df-7b379b92-bec7-4e6c-aebd-75c6de8db70a')\"\n",
              "            title=\"Convert this dataframe to an interactive table.\"\n",
              "            style=\"display:none;\">\n",
              "\n",
              "  <svg xmlns=\"http://www.w3.org/2000/svg\" height=\"24px\" viewBox=\"0 -960 960 960\">\n",
              "    <path d=\"M120-120v-720h720v720H120Zm60-500h600v-160H180v160Zm220 220h160v-160H400v160Zm0 220h160v-160H400v160ZM180-400h160v-160H180v160Zm440 0h160v-160H620v160ZM180-180h160v-160H180v160Zm440 0h160v-160H620v160Z\"/>\n",
              "  </svg>\n",
              "    </button>\n",
              "\n",
              "  <style>\n",
              "    .colab-df-container {\n",
              "      display:flex;\n",
              "      gap: 12px;\n",
              "    }\n",
              "\n",
              "    .colab-df-convert {\n",
              "      background-color: #E8F0FE;\n",
              "      border: none;\n",
              "      border-radius: 50%;\n",
              "      cursor: pointer;\n",
              "      display: none;\n",
              "      fill: #1967D2;\n",
              "      height: 32px;\n",
              "      padding: 0 0 0 0;\n",
              "      width: 32px;\n",
              "    }\n",
              "\n",
              "    .colab-df-convert:hover {\n",
              "      background-color: #E2EBFA;\n",
              "      box-shadow: 0px 1px 2px rgba(60, 64, 67, 0.3), 0px 1px 3px 1px rgba(60, 64, 67, 0.15);\n",
              "      fill: #174EA6;\n",
              "    }\n",
              "\n",
              "    .colab-df-buttons div {\n",
              "      margin-bottom: 4px;\n",
              "    }\n",
              "\n",
              "    [theme=dark] .colab-df-convert {\n",
              "      background-color: #3B4455;\n",
              "      fill: #D2E3FC;\n",
              "    }\n",
              "\n",
              "    [theme=dark] .colab-df-convert:hover {\n",
              "      background-color: #434B5C;\n",
              "      box-shadow: 0px 1px 3px 1px rgba(0, 0, 0, 0.15);\n",
              "      filter: drop-shadow(0px 1px 2px rgba(0, 0, 0, 0.3));\n",
              "      fill: #FFFFFF;\n",
              "    }\n",
              "  </style>\n",
              "\n",
              "    <script>\n",
              "      const buttonEl =\n",
              "        document.querySelector('#df-7b379b92-bec7-4e6c-aebd-75c6de8db70a button.colab-df-convert');\n",
              "      buttonEl.style.display =\n",
              "        google.colab.kernel.accessAllowed ? 'block' : 'none';\n",
              "\n",
              "      async function convertToInteractive(key) {\n",
              "        const element = document.querySelector('#df-7b379b92-bec7-4e6c-aebd-75c6de8db70a');\n",
              "        const dataTable =\n",
              "          await google.colab.kernel.invokeFunction('convertToInteractive',\n",
              "                                                    [key], {});\n",
              "        if (!dataTable) return;\n",
              "\n",
              "        const docLinkHtml = 'Like what you see? Visit the ' +\n",
              "          '<a target=\"_blank\" href=https://colab.research.google.com/notebooks/data_table.ipynb>data table notebook</a>'\n",
              "          + ' to learn more about interactive tables.';\n",
              "        element.innerHTML = '';\n",
              "        dataTable['output_type'] = 'display_data';\n",
              "        await google.colab.output.renderOutput(dataTable, element);\n",
              "        const docLink = document.createElement('div');\n",
              "        docLink.innerHTML = docLinkHtml;\n",
              "        element.appendChild(docLink);\n",
              "      }\n",
              "    </script>\n",
              "  </div>\n",
              "\n",
              "\n",
              "<div id=\"df-b2a8a798-efeb-4924-8b32-3845a6c4d647\">\n",
              "  <button class=\"colab-df-quickchart\" onclick=\"quickchart('df-b2a8a798-efeb-4924-8b32-3845a6c4d647')\"\n",
              "            title=\"Suggest charts\"\n",
              "            style=\"display:none;\">\n",
              "\n",
              "<svg xmlns=\"http://www.w3.org/2000/svg\" height=\"24px\"viewBox=\"0 0 24 24\"\n",
              "     width=\"24px\">\n",
              "    <g>\n",
              "        <path d=\"M19 3H5c-1.1 0-2 .9-2 2v14c0 1.1.9 2 2 2h14c1.1 0 2-.9 2-2V5c0-1.1-.9-2-2-2zM9 17H7v-7h2v7zm4 0h-2V7h2v10zm4 0h-2v-4h2v4z\"/>\n",
              "    </g>\n",
              "</svg>\n",
              "  </button>\n",
              "\n",
              "<style>\n",
              "  .colab-df-quickchart {\n",
              "      --bg-color: #E8F0FE;\n",
              "      --fill-color: #1967D2;\n",
              "      --hover-bg-color: #E2EBFA;\n",
              "      --hover-fill-color: #174EA6;\n",
              "      --disabled-fill-color: #AAA;\n",
              "      --disabled-bg-color: #DDD;\n",
              "  }\n",
              "\n",
              "  [theme=dark] .colab-df-quickchart {\n",
              "      --bg-color: #3B4455;\n",
              "      --fill-color: #D2E3FC;\n",
              "      --hover-bg-color: #434B5C;\n",
              "      --hover-fill-color: #FFFFFF;\n",
              "      --disabled-bg-color: #3B4455;\n",
              "      --disabled-fill-color: #666;\n",
              "  }\n",
              "\n",
              "  .colab-df-quickchart {\n",
              "    background-color: var(--bg-color);\n",
              "    border: none;\n",
              "    border-radius: 50%;\n",
              "    cursor: pointer;\n",
              "    display: none;\n",
              "    fill: var(--fill-color);\n",
              "    height: 32px;\n",
              "    padding: 0;\n",
              "    width: 32px;\n",
              "  }\n",
              "\n",
              "  .colab-df-quickchart:hover {\n",
              "    background-color: var(--hover-bg-color);\n",
              "    box-shadow: 0 1px 2px rgba(60, 64, 67, 0.3), 0 1px 3px 1px rgba(60, 64, 67, 0.15);\n",
              "    fill: var(--button-hover-fill-color);\n",
              "  }\n",
              "\n",
              "  .colab-df-quickchart-complete:disabled,\n",
              "  .colab-df-quickchart-complete:disabled:hover {\n",
              "    background-color: var(--disabled-bg-color);\n",
              "    fill: var(--disabled-fill-color);\n",
              "    box-shadow: none;\n",
              "  }\n",
              "\n",
              "  .colab-df-spinner {\n",
              "    border: 2px solid var(--fill-color);\n",
              "    border-color: transparent;\n",
              "    border-bottom-color: var(--fill-color);\n",
              "    animation:\n",
              "      spin 1s steps(1) infinite;\n",
              "  }\n",
              "\n",
              "  @keyframes spin {\n",
              "    0% {\n",
              "      border-color: transparent;\n",
              "      border-bottom-color: var(--fill-color);\n",
              "      border-left-color: var(--fill-color);\n",
              "    }\n",
              "    20% {\n",
              "      border-color: transparent;\n",
              "      border-left-color: var(--fill-color);\n",
              "      border-top-color: var(--fill-color);\n",
              "    }\n",
              "    30% {\n",
              "      border-color: transparent;\n",
              "      border-left-color: var(--fill-color);\n",
              "      border-top-color: var(--fill-color);\n",
              "      border-right-color: var(--fill-color);\n",
              "    }\n",
              "    40% {\n",
              "      border-color: transparent;\n",
              "      border-right-color: var(--fill-color);\n",
              "      border-top-color: var(--fill-color);\n",
              "    }\n",
              "    60% {\n",
              "      border-color: transparent;\n",
              "      border-right-color: var(--fill-color);\n",
              "    }\n",
              "    80% {\n",
              "      border-color: transparent;\n",
              "      border-right-color: var(--fill-color);\n",
              "      border-bottom-color: var(--fill-color);\n",
              "    }\n",
              "    90% {\n",
              "      border-color: transparent;\n",
              "      border-bottom-color: var(--fill-color);\n",
              "    }\n",
              "  }\n",
              "</style>\n",
              "\n",
              "  <script>\n",
              "    async function quickchart(key) {\n",
              "      const quickchartButtonEl =\n",
              "        document.querySelector('#' + key + ' button');\n",
              "      quickchartButtonEl.disabled = true;  // To prevent multiple clicks.\n",
              "      quickchartButtonEl.classList.add('colab-df-spinner');\n",
              "      try {\n",
              "        const charts = await google.colab.kernel.invokeFunction(\n",
              "            'suggestCharts', [key], {});\n",
              "      } catch (error) {\n",
              "        console.error('Error during call to suggestCharts:', error);\n",
              "      }\n",
              "      quickchartButtonEl.classList.remove('colab-df-spinner');\n",
              "      quickchartButtonEl.classList.add('colab-df-quickchart-complete');\n",
              "    }\n",
              "    (() => {\n",
              "      let quickchartButtonEl =\n",
              "        document.querySelector('#df-b2a8a798-efeb-4924-8b32-3845a6c4d647 button');\n",
              "      quickchartButtonEl.style.display =\n",
              "        google.colab.kernel.accessAllowed ? 'block' : 'none';\n",
              "    })();\n",
              "  </script>\n",
              "</div>\n",
              "    </div>\n",
              "  </div>\n"
            ],
            "application/vnd.google.colaboratory.intrinsic+json": {
              "type": "dataframe",
              "variable_name": "df",
              "summary": "{\n  \"name\": \"df\",\n  \"rows\": 13,\n  \"fields\": [\n    {\n      \"column\": \"Area\",\n      \"properties\": {\n        \"dtype\": \"category\",\n        \"num_unique_values\": 1,\n        \"samples\": [\n          \"Tomsk\"\n        ],\n        \"semantic_type\": \"\",\n        \"description\": \"\"\n      }\n    },\n    {\n      \"column\": \"City\",\n      \"properties\": {\n        \"dtype\": \"category\",\n        \"num_unique_values\": 1,\n        \"samples\": [\n          \"Tomsk\"\n        ],\n        \"semantic_type\": \"\",\n        \"description\": \"\"\n      }\n    },\n    {\n      \"column\": \"Date\",\n      \"properties\": {\n        \"dtype\": \"string\",\n        \"num_unique_values\": 7,\n        \"samples\": [\n          \"25 \\u0430\\u0432\\u0433\\u0443\\u0441\\u0442\\u0430\"\n        ],\n        \"semantic_type\": \"\",\n        \"description\": \"\"\n      }\n    },\n    {\n      \"column\": \"Weekday\",\n      \"properties\": {\n        \"dtype\": \"string\",\n        \"num_unique_values\": 7,\n        \"samples\": [\n          \"\\u0412\\u043e\\u0441\\u043a\\u0440\\u0435\\u0441\\u0435\\u043d\\u044c\\u0435\"\n        ],\n        \"semantic_type\": \"\",\n        \"description\": \"\"\n      }\n    },\n    {\n      \"column\": \"Day/Night\",\n      \"properties\": {\n        \"dtype\": \"category\",\n        \"num_unique_values\": 2,\n        \"samples\": [\n          \"\\u041d\\u043e\\u0447\\u044c\"\n        ],\n        \"semantic_type\": \"\",\n        \"description\": \"\"\n      }\n    },\n    {\n      \"column\": \"Cloudiness\",\n      \"properties\": {\n        \"dtype\": \"category\",\n        \"num_unique_values\": 5,\n        \"samples\": [\n          \"\\u041e\\u0431\\u043b\\u0430\\u0447\\u043d\\u043e, \\u043d\\u0435\\u0431\\u043e\\u043b\\u044c\\u0448\\u043e\\u0439 \\u0434\\u043e\\u0436\\u0434\\u044c\"\n        ],\n        \"semantic_type\": \"\",\n        \"description\": \"\"\n      }\n    },\n    {\n      \"column\": \"Temperature\",\n      \"properties\": {\n        \"dtype\": \"string\",\n        \"num_unique_values\": 7,\n        \"samples\": [\n          \"23\"\n        ],\n        \"semantic_type\": \"\",\n        \"description\": \"\"\n      }\n    },\n    {\n      \"column\": \"PrecipitationProbability\",\n      \"properties\": {\n        \"dtype\": \"string\",\n        \"num_unique_values\": 9,\n        \"samples\": [\n          \"79\"\n        ],\n        \"semantic_type\": \"\",\n        \"description\": \"\"\n      }\n    },\n    {\n      \"column\": \"WindDirection\",\n      \"properties\": {\n        \"dtype\": \"category\",\n        \"num_unique_values\": 4,\n        \"samples\": [\n          \"\\u042e-\\u0417\"\n        ],\n        \"semantic_type\": \"\",\n        \"description\": \"\"\n      }\n    },\n    {\n      \"column\": \"WindSpeed\",\n      \"properties\": {\n        \"dtype\": \"category\",\n        \"num_unique_values\": 4,\n        \"samples\": [\n          \"4\"\n        ],\n        \"semantic_type\": \"\",\n        \"description\": \"\"\n      }\n    },\n    {\n      \"column\": \"AtmosphericPressure\",\n      \"properties\": {\n        \"dtype\": \"string\",\n        \"num_unique_values\": 8,\n        \"samples\": [\n          \"739\"\n        ],\n        \"semantic_type\": \"\",\n        \"description\": \"\"\n      }\n    }\n  ]\n}"
            }
          },
          "metadata": {},
          "execution_count": 17
        }
      ]
    },
    {
      "cell_type": "code",
      "source": [],
      "metadata": {
        "id": "bLmAaLvTqTXo"
      },
      "execution_count": 17,
      "outputs": []
    }
  ]
}