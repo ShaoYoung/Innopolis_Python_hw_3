{
  "nbformat": 4,
  "nbformat_minor": 0,
  "metadata": {
    "colab": {
      "provenance": []
    },
    "kernelspec": {
      "name": "python3",
      "display_name": "Python 3"
    },
    "language_info": {
      "name": "python"
    }
  },
  "cells": [
    {
      "cell_type": "code",
      "execution_count": null,
      "metadata": {
        "colab": {
          "base_uri": "https://localhost:8080/"
        },
        "id": "xUkhrBWEOHbt",
        "outputId": "daf37cf8-8e54-4560-ffff-9e04ba22fece"
      },
      "outputs": [
        {
          "output_type": "stream",
          "name": "stdout",
          "text": [
            "Requirement already satisfied: BeautifulSoup4 in /usr/local/lib/python3.10/dist-packages (4.12.3)\n",
            "Requirement already satisfied: soupsieve>1.2 in /usr/local/lib/python3.10/dist-packages (from BeautifulSoup4) (2.6)\n"
          ]
        }
      ],
      "source": [
        "!pip install BeautifulSoup4"
      ]
    },
    {
      "cell_type": "code",
      "source": [
        "import requests\n",
        "from bs4 import BeautifulSoup\n",
        "import pandas as pd\n",
        "import string\n",
        "import re\n",
        "# url = 'https://yandex.com.am/weather/ru-RU/details?lat=56.48464&lon=84.947649&lang=ru&via=ms'\n",
        "# url = 'https://yandex.com.am/weather/?lat=56.48464&lon=84.947649'\n",
        "# url = 'https://yandex.com.am/weather/?lat=55.75581741&lon=37.61764526'\n",
        "# url = 'https://meteoinfo.ru/forecasts/russia/tomsk-area/tomsk'\n",
        "area = input('Введите область: ')\n",
        "city = input('Введите город: ')\n",
        "url = f'https://meteoinfo.ru/forecasts/russia/{area}-area/{city}'\n",
        "print(url)"
      ],
      "metadata": {
        "id": "7vRXlOTWOq6t",
        "colab": {
          "base_uri": "https://localhost:8080/"
        },
        "outputId": "246145d0-76a6-42e2-fadb-5d9b74ae7fda"
      },
      "execution_count": null,
      "outputs": [
        {
          "output_type": "stream",
          "name": "stdout",
          "text": [
            "Введите область: Tomsk\n",
            "Введите город: Tomsk\n",
            "https://meteoinfo.ru/forecasts/russia/Tomsk-area/Tomsk\n"
          ]
        }
      ]
    },
    {
      "cell_type": "code",
      "source": [
        "response = requests.get(url)\n",
        "if response.status_code == 200:\n",
        "  print(f'Данные получены, ответ {response.status_code}. Начинаю парсить!')\n",
        "  soup = BeautifulSoup(response.text, 'html.parser')\n",
        "  # soup = BeautifulSoup(response.text, 'lxml')\n",
        "else:\n",
        "  print(f'Что-то пошло не так, ответ {response.status_code}.')"
      ],
      "metadata": {
        "colab": {
          "base_uri": "https://localhost:8080/"
        },
        "id": "5T_ZaUjXQXUQ",
        "outputId": "9a789b3c-63f4-4ff4-9720-f1fcdce1c633"
      },
      "execution_count": null,
      "outputs": [
        {
          "output_type": "stream",
          "name": "stdout",
          "text": [
            "Данные получены, ответ 200. Начинаю парсить!\n"
          ]
        }
      ]
    },
    {
      "cell_type": "code",
      "source": [
        "table = soup.find('table', {'class': 'fc_tab_1'})\n",
        "rows = table.findAll('tr')"
      ],
      "metadata": {
        "id": "tDQQSAWd2OZr"
      },
      "execution_count": null,
      "outputs": []
    },
    {
      "cell_type": "code",
      "source": [
        "# Даты\n",
        "dates = []\n",
        "# Дни недели\n",
        "weekdays = []\n",
        "# Дни и ночи\n",
        "t_days = rows[0].findAll('td')\n",
        "for day in t_days:\n",
        "  if day.text:\n",
        "    index = (day.text.index([num for num in day.text if num in string.digits][0]))\n",
        "    if dates:\n",
        "      weekdays.append(day.text[:index])\n",
        "      weekdays.append(day.text[:index])\n",
        "      dates.append(day.text[index:])\n",
        "      dates.append(day.text[index:])\n",
        "    else:\n",
        "      weekdays.append(day.text[:index])\n",
        "      dates.append(day.text[index:])\n",
        "print(dates)\n",
        "print(weekdays)"
      ],
      "metadata": {
        "colab": {
          "base_uri": "https://localhost:8080/"
        },
        "id": "uRdu7zQ4A3R4",
        "outputId": "bb4976f0-f735-4f44-9988-907febb95621"
      },
      "execution_count": null,
      "outputs": [
        {
          "output_type": "stream",
          "name": "stdout",
          "text": [
            "['25 августа', '26 августа', '26 августа', '27 августа', '27 августа', '28 августа', '28 августа', '29 августа', '29 августа', '30 августа', '30 августа', '31 августа', '31 августа']\n",
            "['Воскресенье', 'Понедельник', 'Понедельник', 'Вторник', 'Вторник', 'Среда', 'Среда', 'Четверг', 'Четверг', 'Пятница', 'Пятница', 'Суббота', 'Суббота']\n"
          ]
        }
      ]
    },
    {
      "cell_type": "code",
      "source": [
        "# Облачность, осадки (день)\n",
        "clouds = []\n",
        "t_clouds = rows[1].findAll('td')\n",
        "# Дни\n",
        "days_nights = [t_clouds[0].text] * 7\n",
        "for cloud in t_clouds:\n",
        "  match = re.findall(r'(title=\".+\")', str(cloud))\n",
        "  if match:\n",
        "    clouds.append(match[0].replace('title=', '').replace('\"', ''))\n",
        "print(clouds)\n",
        "print(days_nights)"
      ],
      "metadata": {
        "colab": {
          "base_uri": "https://localhost:8080/"
        },
        "id": "02IwDYojIqkE",
        "outputId": "778117cb-0a76-4bbf-b930-042f746bab01"
      },
      "execution_count": null,
      "outputs": [
        {
          "output_type": "stream",
          "name": "stdout",
          "text": [
            "['Облачно, дождь', 'Облачно, дождь', 'Облачно, небольшой дождь', 'Облачно, дождь', 'Переменная облачность, небольшой кратковременный дождь', 'Облачно, дождь', 'Облачно, дождь']\n",
            "['День', 'День', 'День', 'День', 'День', 'День', 'День']\n"
          ]
        }
      ]
    },
    {
      "cell_type": "code",
      "source": [
        "# Температура (день)\n",
        "temps = []\n",
        "t_temp = rows[2].findAll('td')\n",
        "for temp_max in t_temp:\n",
        "  if 'T максимальная' not in temp_max.text and temp_max.text != '':\n",
        "    temps.append(temp_max.text.replace('°', ''))\n",
        "print(temps)"
      ],
      "metadata": {
        "colab": {
          "base_uri": "https://localhost:8080/"
        },
        "id": "C778WI4WRcBq",
        "outputId": "f3e2a008-52dc-4090-83a6-dd1db800273e"
      },
      "execution_count": null,
      "outputs": [
        {
          "output_type": "stream",
          "name": "stdout",
          "text": [
            "['23', '19', '19', '19', '22', '19', '17']\n"
          ]
        }
      ]
    },
    {
      "cell_type": "code",
      "source": [
        "# Вероятность осадков (день)\n",
        "precs = []\n",
        "t_precs = rows[4].findAll('td')\n",
        "for prec in t_precs:\n",
        "  if 'Осадки, вероятность' not in prec.text and prec.text != '':\n",
        "    precs.append(prec.text.replace('%', ''))\n",
        "print(precs)"
      ],
      "metadata": {
        "colab": {
          "base_uri": "https://localhost:8080/"
        },
        "id": "4MJFy-1NReS1",
        "outputId": "becd3fbb-3b46-4039-ee54-1ea77a51e3f8"
      },
      "execution_count": null,
      "outputs": [
        {
          "output_type": "stream",
          "name": "stdout",
          "text": [
            "['85', '95', '84', '87', '83', '79', '75']\n"
          ]
        }
      ]
    },
    {
      "cell_type": "code",
      "source": [
        "# Направление ветра (день)\n",
        "wind_directions = []\n",
        "# Скорость ветра (день)\n",
        "wind_speeds = []\n",
        "t_winds = rows[5].findAll('td')\n",
        "for wind in t_winds:\n",
        "  match = re.findall(r'(title=\".{1,3}\")', str(wind))\n",
        "  if match:\n",
        "    wind_directions.append(match[0].replace('title=', '').replace('\"', ''))\n",
        "    wind_speeds.append(wind.text.replace(' ', ''))\n",
        "print(wind_directions)\n",
        "print(wind_speeds)"
      ],
      "metadata": {
        "colab": {
          "base_uri": "https://localhost:8080/"
        },
        "id": "mKtSM72DUXYT",
        "outputId": "2945e422-89d3-42f1-9fd4-1961400f75b2"
      },
      "execution_count": null,
      "outputs": [
        {
          "output_type": "stream",
          "name": "stdout",
          "text": [
            "['Ю', 'Ю-З', 'Ю-З', 'З', 'Ю-З', 'Ю-З', 'С-З']\n",
            "['3', '4', '3', '2', '3', '4', '2']\n"
          ]
        }
      ]
    },
    {
      "cell_type": "code",
      "source": [
        "# Атмосферное давление (день)\n",
        "presss = []\n",
        "t_press = rows[6].findAll('td')\n",
        "for press in t_press:\n",
        "  if 'Давление, мм рт.ст' not in press.text and press.text != '':\n",
        "    presss.append(press.text)\n",
        "print(presss)"
      ],
      "metadata": {
        "colab": {
          "base_uri": "https://localhost:8080/"
        },
        "id": "KElL5CuiUXj0",
        "outputId": "c15c2b65-2535-4b7f-edff-d9b0694031ca"
      },
      "execution_count": null,
      "outputs": [
        {
          "output_type": "stream",
          "name": "stdout",
          "text": [
            "['740', '742', '746', '748', '746', '744', '746']\n"
          ]
        }
      ]
    },
    {
      "cell_type": "code",
      "source": [
        "t_clouds = rows[7].findAll('td')\n",
        "# Ночи\n",
        "for index in range(1, 13, 2):\n",
        "  days_nights.insert(index, t_clouds[0].text)\n",
        "print(days_nights)\n",
        "\n",
        "# Облачность, осадки (ночь)\n",
        "index = 1\n",
        "for cloud in t_clouds:\n",
        "  match = re.findall(r'(title=\".+\")', str(cloud))\n",
        "  if match:\n",
        "    clouds.insert(index, match[0].replace('title=', '').replace('\"', ''))\n",
        "    index += 2\n",
        "print(clouds)"
      ],
      "metadata": {
        "id": "fK3WehfkUXsf",
        "colab": {
          "base_uri": "https://localhost:8080/"
        },
        "outputId": "b4f40969-d4b7-48da-9ae5-50cc6bb9cb6c"
      },
      "execution_count": null,
      "outputs": [
        {
          "output_type": "stream",
          "name": "stdout",
          "text": [
            "['День', 'Ночь', 'День', 'Ночь', 'День', 'Ночь', 'День', 'Ночь', 'День', 'Ночь', 'День', 'Ночь', 'День']\n",
            "['Облачно, дождь', 'Облачно, дождь', 'Облачно, дождь', 'Облачно, дождь', 'Облачно, небольшой дождь', 'Облачно, небольшой дождь', 'Облачно, дождь', 'Переменная облачность, небольшой кратковременный дождь', 'Переменная облачность, небольшой кратковременный дождь', 'Облачно, временами небольшой дождь', 'Облачно, дождь', 'Облачно, кратковременный дождь', 'Облачно, дождь']\n"
          ]
        }
      ]
    },
    {
      "cell_type": "code",
      "source": [
        "# Температура (ночь)\n",
        "t_temp = rows[8].findAll('td')\n",
        "index = 1\n",
        "for temp_max in t_temp:\n",
        "  if 'T минимальная' not in temp_max.text and temp_max.text != '':\n",
        "    temps.insert(index, temp_max.text.replace('°', ''))\n",
        "    index += 2\n",
        "print(temps)"
      ],
      "metadata": {
        "id": "6vYmIT6wUXzL",
        "colab": {
          "base_uri": "https://localhost:8080/"
        },
        "outputId": "943b8342-278b-46f5-f6f2-e79d14e9e35a"
      },
      "execution_count": null,
      "outputs": [
        {
          "output_type": "stream",
          "name": "stdout",
          "text": [
            "['23', '13', '19', '13', '19', '13', '19', '11', '22', '14', '19', '11', '17']\n"
          ]
        }
      ]
    },
    {
      "cell_type": "code",
      "source": [
        "# Вероятность осадков (ночь)\n",
        "t_precs = rows[10].findAll('td')\n",
        "index = 1\n",
        "for prec in t_precs:\n",
        "  if 'Осадки, вероятность' not in prec.text and prec.text != '':\n",
        "    precs.insert(index, prec.text.replace('%', ''))\n",
        "    index += 2\n",
        "print(precs)"
      ],
      "metadata": {
        "colab": {
          "base_uri": "https://localhost:8080/"
        },
        "id": "uqvBLbmZbwnP",
        "outputId": "1f37d23e-4623-4050-a5a2-a152052ddc4f"
      },
      "execution_count": null,
      "outputs": [
        {
          "output_type": "stream",
          "name": "stdout",
          "text": [
            "['85', '95', '95', '91', '84', '73', '87', '83', '83', '79', '79', '75', '75']\n"
          ]
        }
      ]
    },
    {
      "cell_type": "code",
      "source": [
        "# Направление ветра (ночь)\n",
        "# Скорость ветра (ночь)\n",
        "t_winds = rows[11].findAll('td')\n",
        "index = 1\n",
        "for wind in t_winds:\n",
        "  match = re.findall(r'(title=\".{1,3}\")', str(wind))\n",
        "  if match:\n",
        "    wind_directions.insert(index, match[0].replace('title=', '').replace('\"', ''))\n",
        "    wind_speeds.insert(index, wind.text.replace(' ', ''))\n",
        "    index += 2\n",
        "print(wind_directions)\n",
        "print(wind_speeds)"
      ],
      "metadata": {
        "colab": {
          "base_uri": "https://localhost:8080/"
        },
        "id": "-8nto3aTtjXC",
        "outputId": "8b488471-bc40-4eae-e1d1-f613975d5876"
      },
      "execution_count": null,
      "outputs": [
        {
          "output_type": "stream",
          "name": "stdout",
          "text": [
            "['Ю', 'Ю-З', 'Ю-З', 'Ю-З', 'Ю-З', 'Ю-З', 'З', 'Ю-З', 'Ю-З', 'Ю', 'Ю-З', 'З', 'С-З']\n",
            "['3', '4', '4', '3', '3', '2', '2', '2', '3', '4', '4', '1', '2']\n"
          ]
        }
      ]
    },
    {
      "cell_type": "code",
      "source": [
        "# Атмосферное давление (ночь)\n",
        "t_press = rows[12].findAll('td')\n",
        "index = 1\n",
        "for press in t_press:\n",
        "  if 'Давление, мм рт.ст' not in press.text and press.text != '':\n",
        "    presss.insert(index, press.text)\n",
        "    index += 2\n",
        "print(presss)"
      ],
      "metadata": {
        "colab": {
          "base_uri": "https://localhost:8080/"
        },
        "id": "Pecemg8Stjks",
        "outputId": "55afc3e1-b543-4d6e-e815-bf1241cc180e"
      },
      "execution_count": null,
      "outputs": [
        {
          "output_type": "stream",
          "name": "stdout",
          "text": [
            "['740', '739', '742', '744', '746', '747', '748', '748', '746', '745', '744', '745', '746']\n"
          ]
        }
      ]
    },
    {
      "cell_type": "code",
      "source": [
        "weather = {'Area': [area] * len(dates), 'City': [city] * len(dates), 'Date': dates, 'Weekday': weekdays, 'Day/Night': days_nights, 'Cloudiness': clouds, 'Temperature': temps, 'PrecipitationProbability': precs, 'WindDirection': wind_directions, 'WindSpeed': wind_speeds, 'AtmosphericPressure': presss}\n",
        "df = pd.DataFrame(weather)"
      ],
      "metadata": {
        "id": "EQH5MS3Ebw6i"
      },
      "execution_count": null,
      "outputs": []
    },
    {
      "cell_type": "code",
      "source": [
        "df"
      ],
      "metadata": {
        "colab": {
          "base_uri": "https://localhost:8080/",
          "height": 457
        },
        "id": "vAB0OYhubxBO",
        "outputId": "2f0ee454-afd0-4de4-d84d-431da3ef7c18"
      },
      "execution_count": null,
      "outputs": [
        {
          "output_type": "execute_result",
          "data": {
            "text/plain": [
              "     Area   City        Date      Weekday Day/Night  \\\n",
              "0   Tomsk  Tomsk  25 августа  Воскресенье      День   \n",
              "1   Tomsk  Tomsk  26 августа  Понедельник      Ночь   \n",
              "2   Tomsk  Tomsk  26 августа  Понедельник      День   \n",
              "3   Tomsk  Tomsk  27 августа      Вторник      Ночь   \n",
              "4   Tomsk  Tomsk  27 августа      Вторник      День   \n",
              "5   Tomsk  Tomsk  28 августа        Среда      Ночь   \n",
              "6   Tomsk  Tomsk  28 августа        Среда      День   \n",
              "7   Tomsk  Tomsk  29 августа      Четверг      Ночь   \n",
              "8   Tomsk  Tomsk  29 августа      Четверг      День   \n",
              "9   Tomsk  Tomsk  30 августа      Пятница      Ночь   \n",
              "10  Tomsk  Tomsk  30 августа      Пятница      День   \n",
              "11  Tomsk  Tomsk  31 августа      Суббота      Ночь   \n",
              "12  Tomsk  Tomsk  31 августа      Суббота      День   \n",
              "\n",
              "                                           Cloudiness Temperature  \\\n",
              "0                                      Облачно, дождь          23   \n",
              "1                                      Облачно, дождь          13   \n",
              "2                                      Облачно, дождь          19   \n",
              "3                                      Облачно, дождь          13   \n",
              "4                            Облачно, небольшой дождь          19   \n",
              "5                            Облачно, небольшой дождь          13   \n",
              "6                                      Облачно, дождь          19   \n",
              "7   Переменная облачность, небольшой кратковременн...          11   \n",
              "8   Переменная облачность, небольшой кратковременн...          22   \n",
              "9                  Облачно, временами небольшой дождь          14   \n",
              "10                                     Облачно, дождь          19   \n",
              "11                     Облачно, кратковременный дождь          11   \n",
              "12                                     Облачно, дождь          17   \n",
              "\n",
              "   PrecipitationProbability WindDirection WindSpeed AtmosphericPressure  \n",
              "0                        85             Ю         3                 740  \n",
              "1                        95           Ю-З         4                 739  \n",
              "2                        95           Ю-З         4                 742  \n",
              "3                        91           Ю-З         3                 744  \n",
              "4                        84           Ю-З         3                 746  \n",
              "5                        73           Ю-З         2                 747  \n",
              "6                        87             З         2                 748  \n",
              "7                        83           Ю-З         2                 748  \n",
              "8                        83           Ю-З         3                 746  \n",
              "9                        79             Ю         4                 745  \n",
              "10                       79           Ю-З         4                 744  \n",
              "11                       75             З         1                 745  \n",
              "12                       75           С-З         2                 746  "
            ],
            "text/html": [
              "\n",
              "  <div id=\"df-7b379b92-bec7-4e6c-aebd-75c6de8db70a\" class=\"colab-df-container\">\n",
              "    <div>\n",
              "<style scoped>\n",
              "    .dataframe tbody tr th:only-of-type {\n",
              "        vertical-align: middle;\n",
              "    }\n",
              "\n",
              "    .dataframe tbody tr th {\n",
              "        vertical-align: top;\n",
              "    }\n",
              "\n",
              "    .dataframe thead th {\n",
              "        text-align: right;\n",
              "    }\n",
              "</style>\n",
              "<table border=\"1\" class=\"dataframe\">\n",
              "  <thead>\n",
              "    <tr style=\"text-align: right;\">\n",
              "      <th></th>\n",
              "      <th>Area</th>\n",
              "      <th>City</th>\n",
              "      <th>Date</th>\n",
              "      <th>Weekday</th>\n",
              "      <th>Day/Night</th>\n",
              "      <th>Cloudiness</th>\n",
              "      <th>Temperature</th>\n",
              "      <th>PrecipitationProbability</th>\n",
              "      <th>WindDirection</th>\n",
              "      <th>WindSpeed</th>\n",
              "      <th>AtmosphericPressure</th>\n",
              "    </tr>\n",
              "  </thead>\n",
              "  <tbody>\n",
              "    <tr>\n",
              "      <th>0</th>\n",
              "      <td>Tomsk</td>\n",
              "      <td>Tomsk</td>\n",
              "      <td>25 августа</td>\n",
              "      <td>Воскресенье</td>\n",
              "      <td>День</td>\n",
              "      <td>Облачно, дождь</td>\n",
              "      <td>23</td>\n",
              "      <td>85</td>\n",
              "      <td>Ю</td>\n",
              "      <td>3</td>\n",
              "      <td>740</td>\n",
              "    </tr>\n",
              "    <tr>\n",
              "      <th>1</th>\n",
              "      <td>Tomsk</td>\n",
              "      <td>Tomsk</td>\n",
              "      <td>26 августа</td>\n",
              "      <td>Понедельник</td>\n",
              "      <td>Ночь</td>\n",
              "      <td>Облачно, дождь</td>\n",
              "      <td>13</td>\n",
              "      <td>95</td>\n",
              "      <td>Ю-З</td>\n",
              "      <td>4</td>\n",
              "      <td>739</td>\n",
              "    </tr>\n",
              "    <tr>\n",
              "      <th>2</th>\n",
              "      <td>Tomsk</td>\n",
              "      <td>Tomsk</td>\n",
              "      <td>26 августа</td>\n",
              "      <td>Понедельник</td>\n",
              "      <td>День</td>\n",
              "      <td>Облачно, дождь</td>\n",
              "      <td>19</td>\n",
              "      <td>95</td>\n",
              "      <td>Ю-З</td>\n",
              "      <td>4</td>\n",
              "      <td>742</td>\n",
              "    </tr>\n",
              "    <tr>\n",
              "      <th>3</th>\n",
              "      <td>Tomsk</td>\n",
              "      <td>Tomsk</td>\n",
              "      <td>27 августа</td>\n",
              "      <td>Вторник</td>\n",
              "      <td>Ночь</td>\n",
              "      <td>Облачно, дождь</td>\n",
              "      <td>13</td>\n",
              "      <td>91</td>\n",
              "      <td>Ю-З</td>\n",
              "      <td>3</td>\n",
              "      <td>744</td>\n",
              "    </tr>\n",
              "    <tr>\n",
              "      <th>4</th>\n",
              "      <td>Tomsk</td>\n",
              "      <td>Tomsk</td>\n",
              "      <td>27 августа</td>\n",
              "      <td>Вторник</td>\n",
              "      <td>День</td>\n",
              "      <td>Облачно, небольшой дождь</td>\n",
              "      <td>19</td>\n",
              "      <td>84</td>\n",
              "      <td>Ю-З</td>\n",
              "      <td>3</td>\n",
              "      <td>746</td>\n",
              "    </tr>\n",
              "    <tr>\n",
              "      <th>5</th>\n",
              "      <td>Tomsk</td>\n",
              "      <td>Tomsk</td>\n",
              "      <td>28 августа</td>\n",
              "      <td>Среда</td>\n",
              "      <td>Ночь</td>\n",
              "      <td>Облачно, небольшой дождь</td>\n",
              "      <td>13</td>\n",
              "      <td>73</td>\n",
              "      <td>Ю-З</td>\n",
              "      <td>2</td>\n",
              "      <td>747</td>\n",
              "    </tr>\n",
              "    <tr>\n",
              "      <th>6</th>\n",
              "      <td>Tomsk</td>\n",
              "      <td>Tomsk</td>\n",
              "      <td>28 августа</td>\n",
              "      <td>Среда</td>\n",
              "      <td>День</td>\n",
              "      <td>Облачно, дождь</td>\n",
              "      <td>19</td>\n",
              "      <td>87</td>\n",
              "      <td>З</td>\n",
              "      <td>2</td>\n",
              "      <td>748</td>\n",
              "    </tr>\n",
              "    <tr>\n",
              "      <th>7</th>\n",
              "      <td>Tomsk</td>\n",
              "      <td>Tomsk</td>\n",
              "      <td>29 августа</td>\n",
              "      <td>Четверг</td>\n",
              "      <td>Ночь</td>\n",
              "      <td>Переменная облачность, небольшой кратковременн...</td>\n",
              "      <td>11</td>\n",
              "      <td>83</td>\n",
              "      <td>Ю-З</td>\n",
              "      <td>2</td>\n",
              "      <td>748</td>\n",
              "    </tr>\n",
              "    <tr>\n",
              "      <th>8</th>\n",
              "      <td>Tomsk</td>\n",
              "      <td>Tomsk</td>\n",
              "      <td>29 августа</td>\n",
              "      <td>Четверг</td>\n",
              "      <td>День</td>\n",
              "      <td>Переменная облачность, небольшой кратковременн...</td>\n",
              "      <td>22</td>\n",
              "      <td>83</td>\n",
              "      <td>Ю-З</td>\n",
              "      <td>3</td>\n",
              "      <td>746</td>\n",
              "    </tr>\n",
              "    <tr>\n",
              "      <th>9</th>\n",
              "      <td>Tomsk</td>\n",
              "      <td>Tomsk</td>\n",
              "      <td>30 августа</td>\n",
              "      <td>Пятница</td>\n",
              "      <td>Ночь</td>\n",
              "      <td>Облачно, временами небольшой дождь</td>\n",
              "      <td>14</td>\n",
              "      <td>79</td>\n",
              "      <td>Ю</td>\n",
              "      <td>4</td>\n",
              "      <td>745</td>\n",
              "    </tr>\n",
              "    <tr>\n",
              "      <th>10</th>\n",
              "      <td>Tomsk</td>\n",
              "      <td>Tomsk</td>\n",
              "      <td>30 августа</td>\n",
              "      <td>Пятница</td>\n",
              "      <td>День</td>\n",
              "      <td>Облачно, дождь</td>\n",
              "      <td>19</td>\n",
              "      <td>79</td>\n",
              "      <td>Ю-З</td>\n",
              "      <td>4</td>\n",
              "      <td>744</td>\n",
              "    </tr>\n",
              "    <tr>\n",
              "      <th>11</th>\n",
              "      <td>Tomsk</td>\n",
              "      <td>Tomsk</td>\n",
              "      <td>31 августа</td>\n",
              "      <td>Суббота</td>\n",
              "      <td>Ночь</td>\n",
              "      <td>Облачно, кратковременный дождь</td>\n",
              "      <td>11</td>\n",
              "      <td>75</td>\n",
              "      <td>З</td>\n",
              "      <td>1</td>\n",
              "      <td>745</td>\n",
              "    </tr>\n",
              "    <tr>\n",
              "      <th>12</th>\n",
              "      <td>Tomsk</td>\n",
              "      <td>Tomsk</td>\n",
              "      <td>31 августа</td>\n",
              "      <td>Суббота</td>\n",
              "      <td>День</td>\n",
              "      <td>Облачно, дождь</td>\n",
              "      <td>17</td>\n",
              "      <td>75</td>\n",
              "      <td>С-З</td>\n",
              "      <td>2</td>\n",
              "      <td>746</td>\n",
              "    </tr>\n",
              "  </tbody>\n",
              "</table>\n",
              "</div>\n",
              "    <div class=\"colab-df-buttons\">\n",
              "\n",
              "  <div class=\"colab-df-container\">\n",
              "    <button class=\"colab-df-convert\" onclick=\"convertToInteractive('df-7b379b92-bec7-4e6c-aebd-75c6de8db70a')\"\n",
              "            title=\"Convert this dataframe to an interactive table.\"\n",
              "            style=\"display:none;\">\n",
              "\n",
              "  <svg xmlns=\"http://www.w3.org/2000/svg\" height=\"24px\" viewBox=\"0 -960 960 960\">\n",
              "    <path d=\"M120-120v-720h720v720H120Zm60-500h600v-160H180v160Zm220 220h160v-160H400v160Zm0 220h160v-160H400v160ZM180-400h160v-160H180v160Zm440 0h160v-160H620v160ZM180-180h160v-160H180v160Zm440 0h160v-160H620v160Z\"/>\n",
              "  </svg>\n",
              "    </button>\n",
              "\n",
              "  <style>\n",
              "    .colab-df-container {\n",
              "      display:flex;\n",
              "      gap: 12px;\n",
              "    }\n",
              "\n",
              "    .colab-df-convert {\n",
              "      background-color: #E8F0FE;\n",
              "      border: none;\n",
              "      border-radius: 50%;\n",
              "      cursor: pointer;\n",
              "      display: none;\n",
              "      fill: #1967D2;\n",
              "      height: 32px;\n",
              "      padding: 0 0 0 0;\n",
              "      width: 32px;\n",
              "    }\n",
              "\n",
              "    .colab-df-convert:hover {\n",
              "      background-color: #E2EBFA;\n",
              "      box-shadow: 0px 1px 2px rgba(60, 64, 67, 0.3), 0px 1px 3px 1px rgba(60, 64, 67, 0.15);\n",
              "      fill: #174EA6;\n",
              "    }\n",
              "\n",
              "    .colab-df-buttons div {\n",
              "      margin-bottom: 4px;\n",
              "    }\n",
              "\n",
              "    [theme=dark] .colab-df-convert {\n",
              "      background-color: #3B4455;\n",
              "      fill: #D2E3FC;\n",
              "    }\n",
              "\n",
              "    [theme=dark] .colab-df-convert:hover {\n",
              "      background-color: #434B5C;\n",
              "      box-shadow: 0px 1px 3px 1px rgba(0, 0, 0, 0.15);\n",
              "      filter: drop-shadow(0px 1px 2px rgba(0, 0, 0, 0.3));\n",
              "      fill: #FFFFFF;\n",
              "    }\n",
              "  </style>\n",
              "\n",
              "    <script>\n",
              "      const buttonEl =\n",
              "        document.querySelector('#df-7b379b92-bec7-4e6c-aebd-75c6de8db70a button.colab-df-convert');\n",
              "      buttonEl.style.display =\n",
              "        google.colab.kernel.accessAllowed ? 'block' : 'none';\n",
              "\n",
              "      async function convertToInteractive(key) {\n",
              "        const element = document.querySelector('#df-7b379b92-bec7-4e6c-aebd-75c6de8db70a');\n",
              "        const dataTable =\n",
              "          await google.colab.kernel.invokeFunction('convertToInteractive',\n",
              "                                                    [key], {});\n",
              "        if (!dataTable) return;\n",
              "\n",
              "        const docLinkHtml = 'Like what you see? Visit the ' +\n",
              "          '<a target=\"_blank\" href=https://colab.research.google.com/notebooks/data_table.ipynb>data table notebook</a>'\n",
              "          + ' to learn more about interactive tables.';\n",
              "        element.innerHTML = '';\n",
              "        dataTable['output_type'] = 'display_data';\n",
              "        await google.colab.output.renderOutput(dataTable, element);\n",
              "        const docLink = document.createElement('div');\n",
              "        docLink.innerHTML = docLinkHtml;\n",
              "        element.appendChild(docLink);\n",
              "      }\n",
              "    </script>\n",
              "  </div>\n",
              "\n",
              "\n",
              "<div id=\"df-b2a8a798-efeb-4924-8b32-3845a6c4d647\">\n",
              "  <button class=\"colab-df-quickchart\" onclick=\"quickchart('df-b2a8a798-efeb-4924-8b32-3845a6c4d647')\"\n",
              "            title=\"Suggest charts\"\n",
              "            style=\"display:none;\">\n",
              "\n",
              "<svg xmlns=\"http://www.w3.org/2000/svg\" height=\"24px\"viewBox=\"0 0 24 24\"\n",
              "     width=\"24px\">\n",
              "    <g>\n",
              "        <path d=\"M19 3H5c-1.1 0-2 .9-2 2v14c0 1.1.9 2 2 2h14c1.1 0 2-.9 2-2V5c0-1.1-.9-2-2-2zM9 17H7v-7h2v7zm4 0h-2V7h2v10zm4 0h-2v-4h2v4z\"/>\n",
              "    </g>\n",
              "</svg>\n",
              "  </button>\n",
              "\n",
              "<style>\n",
              "  .colab-df-quickchart {\n",
              "      --bg-color: #E8F0FE;\n",
              "      --fill-color: #1967D2;\n",
              "      --hover-bg-color: #E2EBFA;\n",
              "      --hover-fill-color: #174EA6;\n",
              "      --disabled-fill-color: #AAA;\n",
              "      --disabled-bg-color: #DDD;\n",
              "  }\n",
              "\n",
              "  [theme=dark] .colab-df-quickchart {\n",
              "      --bg-color: #3B4455;\n",
              "      --fill-color: #D2E3FC;\n",
              "      --hover-bg-color: #434B5C;\n",
              "      --hover-fill-color: #FFFFFF;\n",
              "      --disabled-bg-color: #3B4455;\n",
              "      --disabled-fill-color: #666;\n",
              "  }\n",
              "\n",
              "  .colab-df-quickchart {\n",
              "    background-color: var(--bg-color);\n",
              "    border: none;\n",
              "    border-radius: 50%;\n",
              "    cursor: pointer;\n",
              "    display: none;\n",
              "    fill: var(--fill-color);\n",
              "    height: 32px;\n",
              "    padding: 0;\n",
              "    width: 32px;\n",
              "  }\n",
              "\n",
              "  .colab-df-quickchart:hover {\n",
              "    background-color: var(--hover-bg-color);\n",
              "    box-shadow: 0 1px 2px rgba(60, 64, 67, 0.3), 0 1px 3px 1px rgba(60, 64, 67, 0.15);\n",
              "    fill: var(--button-hover-fill-color);\n",
              "  }\n",
              "\n",
              "  .colab-df-quickchart-complete:disabled,\n",
              "  .colab-df-quickchart-complete:disabled:hover {\n",
              "    background-color: var(--disabled-bg-color);\n",
              "    fill: var(--disabled-fill-color);\n",
              "    box-shadow: none;\n",
              "  }\n",
              "\n",
              "  .colab-df-spinner {\n",
              "    border: 2px solid var(--fill-color);\n",
              "    border-color: transparent;\n",
              "    border-bottom-color: var(--fill-color);\n",
              "    animation:\n",
              "      spin 1s steps(1) infinite;\n",
              "  }\n",
              "\n",
              "  @keyframes spin {\n",
              "    0% {\n",
              "      border-color: transparent;\n",
              "      border-bottom-color: var(--fill-color);\n",
              "      border-left-color: var(--fill-color);\n",
              "    }\n",
              "    20% {\n",
              "      border-color: transparent;\n",
              "      border-left-color: var(--fill-color);\n",
              "      border-top-color: var(--fill-color);\n",
              "    }\n",
              "    30% {\n",
              "      border-color: transparent;\n",
              "      border-left-color: var(--fill-color);\n",
              "      border-top-color: var(--fill-color);\n",
              "      border-right-color: var(--fill-color);\n",
              "    }\n",
              "    40% {\n",
              "      border-color: transparent;\n",
              "      border-right-color: var(--fill-color);\n",
              "      border-top-color: var(--fill-color);\n",
              "    }\n",
              "    60% {\n",
              "      border-color: transparent;\n",
              "      border-right-color: var(--fill-color);\n",
              "    }\n",
              "    80% {\n",
              "      border-color: transparent;\n",
              "      border-right-color: var(--fill-color);\n",
              "      border-bottom-color: var(--fill-color);\n",
              "    }\n",
              "    90% {\n",
              "      border-color: transparent;\n",
              "      border-bottom-color: var(--fill-color);\n",
              "    }\n",
              "  }\n",
              "</style>\n",
              "\n",
              "  <script>\n",
              "    async function quickchart(key) {\n",
              "      const quickchartButtonEl =\n",
              "        document.querySelector('#' + key + ' button');\n",
              "      quickchartButtonEl.disabled = true;  // To prevent multiple clicks.\n",
              "      quickchartButtonEl.classList.add('colab-df-spinner');\n",
              "      try {\n",
              "        const charts = await google.colab.kernel.invokeFunction(\n",
              "            'suggestCharts', [key], {});\n",
              "      } catch (error) {\n",
              "        console.error('Error during call to suggestCharts:', error);\n",
              "      }\n",
              "      quickchartButtonEl.classList.remove('colab-df-spinner');\n",
              "      quickchartButtonEl.classList.add('colab-df-quickchart-complete');\n",
              "    }\n",
              "    (() => {\n",
              "      let quickchartButtonEl =\n",
              "        document.querySelector('#df-b2a8a798-efeb-4924-8b32-3845a6c4d647 button');\n",
              "      quickchartButtonEl.style.display =\n",
              "        google.colab.kernel.accessAllowed ? 'block' : 'none';\n",
              "    })();\n",
              "  </script>\n",
              "</div>\n",
              "    </div>\n",
              "  </div>\n"
            ],
            "application/vnd.google.colaboratory.intrinsic+json": {
              "type": "dataframe",
              "variable_name": "df",
              "summary": "{\n  \"name\": \"df\",\n  \"rows\": 13,\n  \"fields\": [\n    {\n      \"column\": \"Area\",\n      \"properties\": {\n        \"dtype\": \"category\",\n        \"num_unique_values\": 1,\n        \"samples\": [\n          \"Tomsk\"\n        ],\n        \"semantic_type\": \"\",\n        \"description\": \"\"\n      }\n    },\n    {\n      \"column\": \"City\",\n      \"properties\": {\n        \"dtype\": \"category\",\n        \"num_unique_values\": 1,\n        \"samples\": [\n          \"Tomsk\"\n        ],\n        \"semantic_type\": \"\",\n        \"description\": \"\"\n      }\n    },\n    {\n      \"column\": \"Date\",\n      \"properties\": {\n        \"dtype\": \"string\",\n        \"num_unique_values\": 7,\n        \"samples\": [\n          \"25 \\u0430\\u0432\\u0433\\u0443\\u0441\\u0442\\u0430\"\n        ],\n        \"semantic_type\": \"\",\n        \"description\": \"\"\n      }\n    },\n    {\n      \"column\": \"Weekday\",\n      \"properties\": {\n        \"dtype\": \"string\",\n        \"num_unique_values\": 7,\n        \"samples\": [\n          \"\\u0412\\u043e\\u0441\\u043a\\u0440\\u0435\\u0441\\u0435\\u043d\\u044c\\u0435\"\n        ],\n        \"semantic_type\": \"\",\n        \"description\": \"\"\n      }\n    },\n    {\n      \"column\": \"Day/Night\",\n      \"properties\": {\n        \"dtype\": \"category\",\n        \"num_unique_values\": 2,\n        \"samples\": [\n          \"\\u041d\\u043e\\u0447\\u044c\"\n        ],\n        \"semantic_type\": \"\",\n        \"description\": \"\"\n      }\n    },\n    {\n      \"column\": \"Cloudiness\",\n      \"properties\": {\n        \"dtype\": \"category\",\n        \"num_unique_values\": 5,\n        \"samples\": [\n          \"\\u041e\\u0431\\u043b\\u0430\\u0447\\u043d\\u043e, \\u043d\\u0435\\u0431\\u043e\\u043b\\u044c\\u0448\\u043e\\u0439 \\u0434\\u043e\\u0436\\u0434\\u044c\"\n        ],\n        \"semantic_type\": \"\",\n        \"description\": \"\"\n      }\n    },\n    {\n      \"column\": \"Temperature\",\n      \"properties\": {\n        \"dtype\": \"string\",\n        \"num_unique_values\": 7,\n        \"samples\": [\n          \"23\"\n        ],\n        \"semantic_type\": \"\",\n        \"description\": \"\"\n      }\n    },\n    {\n      \"column\": \"PrecipitationProbability\",\n      \"properties\": {\n        \"dtype\": \"string\",\n        \"num_unique_values\": 9,\n        \"samples\": [\n          \"79\"\n        ],\n        \"semantic_type\": \"\",\n        \"description\": \"\"\n      }\n    },\n    {\n      \"column\": \"WindDirection\",\n      \"properties\": {\n        \"dtype\": \"category\",\n        \"num_unique_values\": 4,\n        \"samples\": [\n          \"\\u042e-\\u0417\"\n        ],\n        \"semantic_type\": \"\",\n        \"description\": \"\"\n      }\n    },\n    {\n      \"column\": \"WindSpeed\",\n      \"properties\": {\n        \"dtype\": \"category\",\n        \"num_unique_values\": 4,\n        \"samples\": [\n          \"4\"\n        ],\n        \"semantic_type\": \"\",\n        \"description\": \"\"\n      }\n    },\n    {\n      \"column\": \"AtmosphericPressure\",\n      \"properties\": {\n        \"dtype\": \"string\",\n        \"num_unique_values\": 8,\n        \"samples\": [\n          \"739\"\n        ],\n        \"semantic_type\": \"\",\n        \"description\": \"\"\n      }\n    }\n  ]\n}"
            }
          },
          "metadata": {},
          "execution_count": 17
        }
      ]
    },
    {
      "cell_type": "code",
      "source": [],
      "metadata": {
        "id": "pPPAZLm2qF6x"
      },
      "execution_count": null,
      "outputs": []
    },
    {
      "cell_type": "markdown",
      "source": [
        "Python. Домашнее задание 3.\n",
        "1.\tОписание структуры данных\n",
        "Основными параметрами погоды являются температура, осадки, ветер и атмосферное давление. Однако в базе данных должна быть возможность беспрепятственного добавления дополнительных параметров прогноза погоды. Возможность хранения информации о погоде не только в одном (основном) месте, но и в других произвольных городах может расширить круг пользователей.\n",
        "Ввиду того, что точность прогноза погоды обратно пропорциональна сроку прогноза, предлагается ограничить период прогнозирования одной неделей с детализацией по дню/ночи.\n",
        "После наступления даты прогноза погода данные о прогнозе погоды не удаляются из базы, а помечаются как исторические и могут быть использованы в будущем для анализа и/или построения графиков.\n",
        "Реализация базы данных по хранению информации о прогнозе погоды предлагается в следующем виде.\n",
        "База данных состоит из трёх таблиц:\n",
        "•\tWeatherCities. Хранятся записи о регионах и городах.\n",
        "o\tidCity – внешний ключ\n",
        "o\tCityArea – облать\n",
        "o\tCityName- название города\n",
        "•\tWeatherParameters. Хранятся записи о параметрах прогноза погоды\n",
        "o\tidParameter – внешний ключ\n",
        "o\tParamName – название параметра\n",
        "•\tWeather. Хранятся записи о погоде\n",
        "o\tidCity – ключ к таблице WeatherCities\n",
        "o\tidParameter – ключ к таблице WeatherParameters\n",
        "o\tDate – дата записи о погоде\n",
        "o\tWeekDay – день недели\n",
        "o\tDay_Night – ночь или день\n",
        "o\tTextValue – текстовое значение параметра погоды (облачность, осадки, направление верта)\n",
        "o\tNumValue – числовое значение параметра погоды (температура, вероятность осадков, скорость ветра, атмосферное давление)\n",
        "o\tForecast – прогнозное или историческое значение (булево)\n"
      ],
      "metadata": {
        "id": "TCl90abrqcjn"
      }
    },
    {
      "cell_type": "markdown",
      "source": [
        "![image.png](data:image/png;base64,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)"
      ],
      "metadata": {
        "id": "-sRDlL_WqoDS"
      }
    },
    {
      "cell_type": "markdown",
      "source": [
        "2.\tПарсер\n",
        "Данные о прогнозе погоды получаются с сайта РосГидроМетЦентра (www.meteoinfo.ru). Для работы парсера используются фреймворки requests, BeautifulSoup, Pandas, string, re. Т.к. часть информации в формате хранения в таблице базы данных находится в параметрах тегов html, наряду в библиотекой BeautifulSoup предлагается использование регулярных выражений.\n",
        "При помощи парсера есть возможность получить прогноз погоды по городу и региону, который вводится пользователем.\n",
        "С сайта получаются следующие данные о прогнозе погоды:\n",
        "•\tДаты (день, месяц). Прогноз на неделю с детализацией день/ночь.\n",
        "•\tДни недели (понедельник – воскресенье)\n",
        "•\tОблачность, осадки (текст)\n",
        "•\tТемпература (число)\n",
        "•\tВероятность осадков (число)\n",
        "•\tНаправление ветра (текст)\n",
        "•\tСкорость ветра (число)\n",
        "•\tАтмосферное давление (число)\n",
        "Из полученных и обработанных данных формируется словарь Python, из которого создаётся DataFrame Pandas. Данный DataFrame можно использовать для добавления полученных с сайта данных в базу данных.\n"
      ],
      "metadata": {
        "id": "9XDcJxKbq2yO"
      }
    },
    {
      "cell_type": "markdown",
      "source": [
        "3.\tРесурсы\n",
        "Поскольку потенциальных пользователей системы может быть несколько, то простой вариант базы данных sqlite (возможностей которого вполне хватило бы для реализации идеи) не подойдёт. Необходимо развернуть серверную СУБД (например, PostgreSQL) на корпоративном сервере с выходом в сеть, либо арендовать облачный вариант (например, на pythonanywhere.com). На этом же ресурсе необходимо установить python и запускать скрипт парсера. В зависимости от способа выдачи информации о прогнозе погоды необходимо разработать приложение для работы с пользователем на Flask (если надо выдавать результат в браузер в виде html-страницы) или на FastAPI (если надо передавать информацию, собранную парсером, иному приложению корпорации).\n"
      ],
      "metadata": {
        "id": "_Jx0zS18rA5f"
      }
    },
    {
      "cell_type": "markdown",
      "source": [],
      "metadata": {
        "id": "eiz-kD-oq7Sy"
      }
    },
    {
      "cell_type": "code",
      "source": [],
      "metadata": {
        "id": "Y_Zx4lAKqGp6"
      },
      "execution_count": null,
      "outputs": []
    }
  ]
}